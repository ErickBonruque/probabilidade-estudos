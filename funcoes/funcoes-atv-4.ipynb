{
 "cells": [
  {
   "cell_type": "code",
   "execution_count": 1,
   "metadata": {},
   "outputs": [],
   "source": [
    "import pandas as pd\n",
    "import math\n",
    "import statistics as st"
   ]
  },
  {
   "cell_type": "code",
   "execution_count": 2,
   "metadata": {},
   "outputs": [],
   "source": [
    "data = [\n",
    "    6.0, 0.0, 0.0, 2.0, 6.5, 5.0, 3.5, 4.0,\n",
    "    8.0, 7.0, 8.5, 6.0, 4.5, 0.0, 6.5, 6.0,\n",
    "    2.0, 5.0, 5.5, 5.0, 7.0, 1.5, 5.0, 5.0,\n",
    "    4.0, 4.5, 4.0, 1.0, 5.5, 3.5, 2.5, 4.5\n",
    "]"
   ]
  },
  {
   "cell_type": "code",
   "execution_count": 3,
   "metadata": {},
   "outputs": [],
   "source": [
    "tamanho = len(data)\n",
    "R = max(data) - min(data) # amplitude total\n",
    "if tamanho <= 25:\n",
    "    k = 5\n",
    "else:\n",
    "    k = tamanho**(1/2)"
   ]
  },
  {
   "cell_type": "code",
   "execution_count": 4,
   "metadata": {},
   "outputs": [],
   "source": [
    "h = R/k\n",
    "h = math.ceil(h) # arredondando para cima"
   ]
  },
  {
   "cell_type": "code",
   "execution_count": 5,
   "metadata": {},
   "outputs": [],
   "source": [
    "# gerar a tabela\n",
    "classes = []"
   ]
  },
  {
   "cell_type": "code",
   "execution_count": 6,
   "metadata": {},
   "outputs": [
    {
     "name": "stdout",
     "output_type": "stream",
     "text": [
      "0.0\n"
     ]
    }
   ],
   "source": [
    "menor = round(min(data), 1)\n",
    "print(menor)"
   ]
  },
  {
   "cell_type": "code",
   "execution_count": 7,
   "metadata": {},
   "outputs": [
    {
     "name": "stdout",
     "output_type": "stream",
     "text": [
      "2.0\n"
     ]
    }
   ],
   "source": [
    "# menor valor somado a amplitude\n",
    "menor_amp = round(menor+h, 1)\n",
    "print(menor_amp)"
   ]
  },
  {
   "cell_type": "code",
   "execution_count": 8,
   "metadata": {},
   "outputs": [],
   "source": [
    "freq_abs = []"
   ]
  },
  {
   "cell_type": "code",
   "execution_count": 9,
   "metadata": {},
   "outputs": [
    {
     "name": "stdout",
     "output_type": "stream",
     "text": [
      "5.656854249492381\n",
      "0.0 |- 2.0\n",
      "2.0 |- 4.0\n",
      "4.0 |- 6.0\n",
      "6.0 |- 8.0\n",
      "8.0 |- 10.0\n"
     ]
    }
   ],
   "source": [
    "valor = min(data)\n",
    "while valor <= max(data):\n",
    "    classes.append('{} |- {}'.format(valor, valor+h))\n",
    "    freq_abs.append(((valor <= pd.Series(data)) & (pd.Series(data) < valor + h)).sum())\n",
    "    valor += h\n",
    "    \n",
    "print(k)\n",
    "for i in range(5):\n",
    "    print(classes[i])"
   ]
  },
  {
   "cell_type": "code",
   "execution_count": 10,
   "metadata": {},
   "outputs": [],
   "source": [
    "freq_rel = pd.Series(freq_abs) / tamanho"
   ]
  },
  {
   "cell_type": "code",
   "execution_count": 11,
   "metadata": {},
   "outputs": [],
   "source": [
    "freq_abs_series = pd.Series(freq_abs)\n",
    "\n",
    "freq_acum = freq_abs_series.cumsum()"
   ]
  },
  {
   "cell_type": "code",
   "execution_count": 12,
   "metadata": {},
   "outputs": [],
   "source": [
    "freq_rel_acum = freq_rel.cumsum()"
   ]
  },
  {
   "cell_type": "code",
   "execution_count": 13,
   "metadata": {},
   "outputs": [],
   "source": [
    "# percentual\n",
    "percentual = pd.Series(freq_abs) / len(data) * 100"
   ]
  },
  {
   "cell_type": "code",
   "execution_count": 14,
   "metadata": {},
   "outputs": [],
   "source": [
    "# percentual acumulado\n",
    "percentual_acumulado = percentual.cumsum()\n"
   ]
  },
  {
   "cell_type": "code",
   "execution_count": 15,
   "metadata": {},
   "outputs": [],
   "source": [
    "df = pd.DataFrame(zip(classes, freq_abs, freq_acum, freq_rel, freq_rel_acum, percentual, percentual_acumulado), columns=['Classes', 'F.Abs', 'F.Acu', 'F.Rel', 'F.RelAcu', '%', '%+'])"
   ]
  },
  {
   "cell_type": "markdown",
   "metadata": {},
   "source": [
    "a)"
   ]
  },
  {
   "cell_type": "code",
   "execution_count": 16,
   "metadata": {},
   "outputs": [
    {
     "name": "stdout",
     "output_type": "stream",
     "text": [
      "[0.0, 0.0, 0.0, 1.0, 1.5, 2.0, 2.0, 2.5, 3.5, 3.5, 4.0, 4.0, 4.0, 4.5, 4.5, 4.5, 5.0, 5.0, 5.0, 5.0, 5.0, 5.5, 5.5, 6.0, 6.0, 6.0, 6.5, 6.5, 7.0, 7.0, 8.0, 8.5]\n"
     ]
    }
   ],
   "source": [
    "data.sort()\n",
    "print(data)"
   ]
  },
  {
   "cell_type": "markdown",
   "metadata": {},
   "source": [
    "b)"
   ]
  },
  {
   "cell_type": "code",
   "execution_count": 17,
   "metadata": {},
   "outputs": [
    {
     "name": "stdout",
     "output_type": "stream",
     "text": [
      "       Classes  F.Abs F.Acu    F.Rel F.RelAcu        %      %+\n",
      "0   0.0 |- 2.0    5.0     5  0.15625  0.15625   15.625  15.625\n",
      "1   2.0 |- 4.0    5.0    10  0.15625   0.3125   15.625   31.25\n",
      "2   4.0 |- 6.0   13.0    23  0.40625  0.71875   40.625  71.875\n",
      "3   6.0 |- 8.0    7.0    30  0.21875   0.9375   21.875   93.75\n",
      "4  8.0 |- 10.0    2.0    32  0.06250      1.0    6.250   100.0\n",
      "0        Total   32.0        1.00000           100.000        \n"
     ]
    }
   ],
   "source": [
    "\n",
    "# Calculating totals\n",
    "total = pd.DataFrame(df[['F.Abs', 'F.Acu', 'F.Rel', '%']].sum()).T\n",
    "total['Classes'] = 'Total' \n",
    "total['F.Acu'] = '' \n",
    "total['F.RelAcu'] = ''\n",
    "total['%+'] = '' \n",
    "\n",
    "df = pd.concat([df, total])\n",
    "print(df)"
   ]
  },
  {
   "cell_type": "markdown",
   "metadata": {},
   "source": [
    "c)"
   ]
  },
  {
   "cell_type": "code",
   "execution_count": 18,
   "metadata": {},
   "outputs": [
    {
     "name": "stdout",
     "output_type": "stream",
     "text": [
      "Minimo: 0.0\n",
      "Maior: 8.5\n"
     ]
    }
   ],
   "source": [
    "print(f'Minimo: %.1f' % min(data))\n",
    "print(f'Maior: %.1f' % max(data))"
   ]
  },
  {
   "cell_type": "markdown",
   "metadata": {},
   "source": [
    "d)"
   ]
  },
  {
   "cell_type": "code",
   "execution_count": 19,
   "metadata": {},
   "outputs": [
    {
     "name": "stdout",
     "output_type": "stream",
     "text": [
      "8.5\n"
     ]
    }
   ],
   "source": [
    "R = max(data) - min(data) # amplitude total\n",
    "print(R)"
   ]
  },
  {
   "cell_type": "markdown",
   "metadata": {},
   "source": [
    "e)"
   ]
  },
  {
   "cell_type": "code",
   "execution_count": 20,
   "metadata": {},
   "outputs": [
    {
     "name": "stdout",
     "output_type": "stream",
     "text": [
      "abaixo de 4.5: 40.62%\n"
     ]
    }
   ],
   "source": [
    "# percentage of under 4.5\n",
    "sub_4 = (pd.Series(data) < 4.5).sum() / len(data) * 100\n",
    "\n",
    "print(f'abaixo de 4.5: {sub_4:.2f}%')"
   ]
  },
  {
   "cell_type": "markdown",
   "metadata": {},
   "source": [
    "f) Qual o limite superior da segunda classe;\n",
    "\n",
    "g) Qual o ponto médio da quarta classe;\n",
    "\n",
    "h) Qual o ponto médio da terceira classe."
   ]
  },
  {
   "cell_type": "code",
   "execution_count": 21,
   "metadata": {},
   "outputs": [
    {
     "name": "stdout",
     "output_type": "stream",
     "text": [
      "[2.0, 2.0, 2.5, 3.5, 3.5]\n",
      "5.75\n"
     ]
    }
   ],
   "source": [
    "# limite superior da segunda classe\n",
    "# ls = q3 + 1.5 * (q3 - q1)\n",
    "segunda_classe = [i for i in data if i >= 2 and i < 4]\n",
    "print(segunda_classe)\n",
    "\n",
    "aux = pd.Series(segunda_classe)\n",
    "\n",
    "q1 = aux.quantile(0.25)\n",
    "q3 = aux.quantile(0.75)\n",
    "limite_superior = q3 + 1.5 * (q3 - q1)\n",
    "print(limite_superior)"
   ]
  },
  {
   "cell_type": "code",
   "execution_count": 22,
   "metadata": {},
   "outputs": [
    {
     "name": "stdout",
     "output_type": "stream",
     "text": [
      "6.428571428571429\n"
     ]
    }
   ],
   "source": [
    "# g)\n",
    "# ponto médio da quarta classe\n",
    "quarta_classe = [i for i in data if i >= 6 and i < 8]\n",
    "media_quarta_classe = st.mean(pd.Series(quarta_classe))\n",
    "print(media_quarta_classe)\n"
   ]
  },
  {
   "cell_type": "code",
   "execution_count": 23,
   "metadata": {},
   "outputs": [
    {
     "name": "stdout",
     "output_type": "stream",
     "text": [
      "4.73\n"
     ]
    }
   ],
   "source": [
    "# g)\n",
    "# ponto médio da quarta classe\n",
    "terceira_classe = [i for i in data if i >= 4 and i < 6]\n",
    "media_terceira_classe = st.mean(pd.Series(terceira_classe))\n",
    "print(f'%.2f' % media_terceira_classe)\n"
   ]
  }
 ],
 "metadata": {
  "kernelspec": {
   "display_name": "Python 3",
   "language": "python",
   "name": "python3"
  },
  "language_info": {
   "codemirror_mode": {
    "name": "ipython",
    "version": 3
   },
   "file_extension": ".py",
   "mimetype": "text/x-python",
   "name": "python",
   "nbconvert_exporter": "python",
   "pygments_lexer": "ipython3",
   "version": "3.11.8"
  }
 },
 "nbformat": 4,
 "nbformat_minor": 2
}
