{
 "cells": [
  {
   "cell_type": "code",
   "execution_count": 2,
   "metadata": {},
   "outputs": [],
   "source": [
    "amostra = [3, 4, 4, 5, 7, 6, 6, 7, 7, 4, 5, 5, 6, 6, 7, 5, 8, 5, 6, 6]"
   ]
  },
  {
   "cell_type": "code",
   "execution_count": 3,
   "metadata": {},
   "outputs": [],
   "source": [
    "import statistics\n",
    "\n",
    "mean = statistics.mean(amostra)\n",
    "median = statistics.median(amostra)\n",
    "mode = statistics.mode(amostra)"
   ]
  },
  {
   "cell_type": "code",
   "execution_count": 4,
   "metadata": {},
   "outputs": [],
   "source": [
    "variancia = statistics.variance(amostra)\n",
    "desvio_padrao = statistics.stdev(amostra)\n",
    "coeficiente_variacao = (desvio_padrao / mean) * 100"
   ]
  },
  {
   "cell_type": "code",
   "execution_count": 6,
   "metadata": {},
   "outputs": [
    {
     "name": "stdout",
     "output_type": "stream",
     "text": [
      "Media: 5.60\n",
      "Mediana: 6.00\n",
      "Moda: 6.00\n",
      "Variancia: 1.62\n",
      "Desvio Padrão: 1.27\n",
      "Coeficiente de Variação: 22.74\n"
     ]
    }
   ],
   "source": [
    "print(\"Media: {:.2f}\".format(mean))\n",
    "print(\"Mediana: {:.2f}\".format(median))\n",
    "print(\"Moda: {:.2f}\".format(mode))\n",
    "print(\"Variancia: {:.2f}\".format(variancia))\n",
    "print(\"Desvio Padrão: {:.2f}\".format(desvio_padrao))\n",
    "print(\"Coeficiente de Variação: {:.2f}\".format(coeficiente_variacao))\n"
   ]
  },
  {
   "cell_type": "code",
   "execution_count": 7,
   "metadata": {},
   "outputs": [
    {
     "data": {
      "text/plain": [
       "[3, 4, 4, 4, 5, 5, 5, 5, 5, 6, 6, 6, 6, 6, 6, 7, 7, 7, 7, 8]"
      ]
     },
     "execution_count": 7,
     "metadata": {},
     "output_type": "execute_result"
    }
   ],
   "source": [
    "amostra.sort()\n",
    "amostra"
   ]
  },
  {
   "cell_type": "code",
   "execution_count": null,
   "metadata": {},
   "outputs": [],
   "source": []
  }
 ],
 "metadata": {
  "kernelspec": {
   "display_name": "Python 3",
   "language": "python",
   "name": "python3"
  },
  "language_info": {
   "codemirror_mode": {
    "name": "ipython",
    "version": 3
   },
   "file_extension": ".py",
   "mimetype": "text/x-python",
   "name": "python",
   "nbconvert_exporter": "python",
   "pygments_lexer": "ipython3",
   "version": "3.11.8"
  }
 },
 "nbformat": 4,
 "nbformat_minor": 2
}
