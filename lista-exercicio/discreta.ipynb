{
 "cells": [
  {
   "cell_type": "markdown",
   "metadata": {},
   "source": [
    "# Exercícios: Distribuições discretas"
   ]
  },
  {
   "cell_type": "code",
   "execution_count": 2,
   "metadata": {},
   "outputs": [
    {
     "name": "stdout",
     "output_type": "stream",
     "text": [
      "Probabilidade de errar todas as perguntas: 0.0390\n",
      "Número esperado de respostas certas: 2.6667\n",
      "Probabilidade de passar: 0.0197\n"
     ]
    }
   ],
   "source": [
    "'''\n",
    "Num exame tipo americano, um estudante tem que responder 8 perguntas. \n",
    "Suponha que o estudante não estuda a matéria abrangida pelo teste e que, \n",
    "para cada pergunta, são-lhes dadas três respostas alternativas. Seja X a v.a. \n",
    "que nos dá o número de respostas certas.\n",
    "\n",
    "a) Caracteriza a variável aleatória X.\n",
    "b) Determine a probabilidade de o estudante errar todas as perguntas.\n",
    "c) Determine o número esperado de respostas certas.\n",
    "d) Supondo que o estudante só passará se responder certo a pelo menos 6 das perguntas, determine a probabilidade de o estudante passar.\n",
    "'''\n",
    "\n",
    "# B)\n",
    "from scipy.stats import binom \n",
    "X0 = binom.pmf(0, 8, 1/3)\n",
    "print(f'Probabilidade de errar todas as perguntas: {X0:.4f}')\n",
    "\n",
    "# C)\n",
    "E = binom.mean(8, 1/3)\n",
    "print(f'Número esperado de respostas certas: {E:.4f}')\n",
    "\n",
    "# D)\n",
    "X6 = binom.pmf(6, 8, 1/3) + binom.pmf(7, 8, 1/3) + binom.pmf(8, 8, 1/3)\n",
    "print(f'Probabilidade de passar: {X6:.4f}') "
   ]
  },
  {
   "cell_type": "code",
   "execution_count": 6,
   "metadata": {},
   "outputs": [
    {
     "name": "stdout",
     "output_type": "stream",
     "text": [
      "Probabilidade de pelo menos 4 fragmentos serem sedimentares: 0.1209\n",
      "Probabilidade de analisar 8 fragmentos até conseguir um sedimentar: 0.0419\n",
      "Probabilidade de observar 20 fragmentos até conseguir 9 sedimentares: 0.0033\n"
     ]
    }
   ],
   "source": [
    "from scipy.stats import nbinom\n",
    "'''\n",
    "A probabilidade de um sedmento de rocha ser sedimentar é 0.2.\n",
    "\n",
    "a) Se um geólogo dispuser de 10 fragmentos de rocha, qual a probabilidade de pelo menos 4 pertencerem a esse tipo?\n",
    "b)  Determine a probabilidade de o geólogo ter de analisar 8 fragmentos até conseguir um fragmento de rocha sedmentar.\n",
    "c) Determine a probabilidade de o geólogo ter de observar 20 fragmentos até conseguir obter 9 do tipo desejado.\n",
    "'''\n",
    "\n",
    "p = 0.2\n",
    "n = 10\n",
    "k = 4\n",
    "\n",
    "# A) Binomial\n",
    "X = 1 - binom.cdf(k-1, n, p)\n",
    "print(f'Probabilidade de pelo menos 4 fragmentos serem sedimentares: {X:.4f}')\n",
    "\n",
    "# B) Geométrica\n",
    "n = 8\n",
    "q = 1 - p\n",
    "X = p * (q ** (n - 1))\n",
    "print(f'Probabilidade de analisar 8 fragmentos até conseguir um sedimentar: {X:.4f}')\n",
    "\n",
    "# C) Negativa Binomial\n",
    "n = 20\n",
    "k = 9\n",
    "X = nbinom.pmf(n - k, k, p)\n",
    "print(f'Probabilidade de observar 20 fragmentos até conseguir 9 sedimentares: {X:.4f}')\n"
   ]
  },
  {
   "cell_type": "code",
   "execution_count": 11,
   "metadata": {},
   "outputs": [
    {
     "name": "stdout",
     "output_type": "stream",
     "text": [
      "Probabilidade de não haver chamadas em 1h: 0.0907\n",
      "Probabilidade de não haver chamadas em 2h: 0.0082\n"
     ]
    }
   ],
   "source": [
    "from scipy.stats import poisson\n",
    "'''\n",
    "Num quartel de bombeiros, o número médio de chamadas de alarme, \n",
    "por hora, é 2.4. Suponha que o número de chamadas de alarme por \n",
    "hora siga um distribuição de Poisson.\n",
    "\n",
    "a) Qual a probabilidade de não haver chamadas num período de 1h?\n",
    "b) Qual a probabilidade de não haver chamadas num período de 2h?\n",
    "'''\n",
    "\n",
    "# A)\n",
    "p = 2.4\n",
    "X = poisson.cdf(0, p)\n",
    "print(f'Probabilidade de não haver chamadas em 1h: {X:.4f}')\n",
    "\n",
    "# B)\n",
    "X = poisson.cdf(0, 2 * p)\n",
    "print(f'Probabilidade de não haver chamadas em 2h: {X:.4f}')"
   ]
  },
  {
   "cell_type": "code",
   "execution_count": 13,
   "metadata": {},
   "outputs": [
    {
     "name": "stdout",
     "output_type": "stream",
     "text": [
      "Probabilidade de se registarem mais de 28 e menos de 32 nascimentos: 0.2156\n"
     ]
    }
   ],
   "source": [
    "'''\n",
    "O número de nascimentos verificado por dia numa certa \n",
    "maternidade é uma v.a. com distribuição de Poisson. Sabendo \n",
    "que a probabilidade de não haver nascimentos num dia é 0,368 \n",
    "e que o número de nascimentos é independente de dia para dia, \n",
    "determine um valor aproximado da probabilidade de se registrarem \n",
    "mais de 28 e menos de 32 nascimentos no mês de junho.\n",
    "'''\n",
    "\n",
    "p = 1 - 0.368\n",
    "X = [poisson.pmf(i, 30) for i in range(29, 32)]\n",
    "X = sum(X)\n",
    "print(f'Probabilidade de se registarem mais de 28 e menos de 32 nascimentos: {X:.4f}')"
   ]
  },
  {
   "cell_type": "code",
   "execution_count": 16,
   "metadata": {},
   "outputs": [
    {
     "name": "stdout",
     "output_type": "stream",
     "text": [
      "Probabilidade de se avariarem 3 ou mais teares: 0.7293\n"
     ]
    }
   ],
   "source": [
    "'''\n",
    "Numa fábrica de têxteis existem numerosos teares de certo tipo. \n",
    "O número de teares que se avariam em cada mês é uma v.a. com \n",
    "distribuição de Poisson. Com valor médio igual a 2 teares. Qual \n",
    "é a probabilidade que durante 1 mês se avariem 3 ou mais teares?\n",
    "'''\n",
    "l = 2\n",
    "X = 1 - poisson.cdf(2, l)\n",
    "print(f'Probabilidade de se avariarem 3 ou mais teares: {X:.4f}')"
   ]
  },
  {
   "cell_type": "code",
   "execution_count": 18,
   "metadata": {},
   "outputs": [
    {
     "name": "stdout",
     "output_type": "stream",
     "text": [
      "Número esperado de peças defeituosas na amostra: 1.0000\n",
      "Probabilidade de rejeitar o lote: 0.2639\n"
     ]
    }
   ],
   "source": [
    "'''\n",
    "Num lote de 500 peças existem 50 defeituosas. \n",
    "Para efeitos de aceitação do lote é efetuada uma \n",
    "inspeção sobre uma amostra de 10 peças escolhidas \n",
    "ao acaso com reposição.\n",
    "\n",
    "A) Qual o número esperado de peças defeituosas na amostra?\n",
    "B) Qual a probabilidade de que a inspeção rejeite o lote, \n",
    "quando só é admitida no máximo uma peça deteriorada na amostra?\n",
    "'''\n",
    "\n",
    "# A) Binomial\n",
    "n = 500\n",
    "k = 50\n",
    "amostra = 10\n",
    "X = binom.mean(amostra, k/n)\n",
    "print(f'Número esperado de peças defeituosas na amostra: {X:.4f}')\n",
    "\n",
    "# B) Binomial\n",
    "X = 1 - binom.cdf(1, amostra, k/n)\n",
    "print(f'Probabilidade de rejeitar o lote: {X:.4f}')\n"
   ]
  },
  {
   "cell_type": "code",
   "execution_count": 25,
   "metadata": {},
   "outputs": [
    {
     "name": "stdout",
     "output_type": "stream",
     "text": [
      "Probabilidade de a décima questão respondida ser a quinta resposta certa: 0.1003\n"
     ]
    }
   ],
   "source": [
    "'''\n",
    "Considere que a probabilidade de um aluno \n",
    "responder corretamente a uma pergunta num \n",
    "teste é 0.4. Qual a probabilidade de a décima \n",
    "questão respondida ser a quinta resposta certa?\n",
    "'''\n",
    "p = 0.4\n",
    "n = 10\n",
    "k = 5\n",
    "L = n- k\n",
    "X = nbinom.pmf(k, L, p)\n",
    "print(f'Probabilidade de a décima questão respondida ser a quinta resposta certa: {X:.4f}')"
   ]
  },
  {
   "cell_type": "code",
   "execution_count": 34,
   "metadata": {},
   "outputs": [
    {
     "name": "stdout",
     "output_type": "stream",
     "text": [
      "Probabilidade de aulas sem toques de celular: 0.3679\n",
      "Probabilidade de aulas sem toques de celular: 0.6065\n"
     ]
    }
   ],
   "source": [
    "'''\n",
    "O número de vezes que uma aula (duas horas) é subitamente \n",
    "interrompida pelo toque irritante e tenebroso de um celular \n",
    "segue um processo de Poisson com taxa média de 1 por aula.\n",
    "\n",
    "A) Qual é a probabilidade de aulas sem tais sons “melodiosos”?\n",
    "B) E se a duração da aula for de 1 hora?\n",
    "'''\n",
    "\n",
    "# A) \n",
    "p = 1\n",
    "X = poisson.cdf(0, p)\n",
    "print(f'Probabilidade de aulas sem toques de celular: {X:.4f}')\n",
    "\n",
    "# B) \n",
    "p = 0.5\n",
    "X = poisson.cdf(0, p)\n",
    "print(f'Probabilidade de aulas sem toques de celular: {X:.4f}')"
   ]
  },
  {
   "cell_type": "code",
   "execution_count": 36,
   "metadata": {},
   "outputs": [
    {
     "name": "stdout",
     "output_type": "stream",
     "text": [
      "Probabilidade de nenhuma pessoa segurada contrair a doença: 0.5488\n",
      "Número esperado de pessoas seguradas que terão a doença: 0.6000\n"
     ]
    }
   ],
   "source": [
    "'''\n",
    "Estatísticas realizadas no campo de saúde revelam \n",
    "que uma doença de tratamento dispendioso afeta anualmente \n",
    "1 em cada 5000 pessoas. Baseada nestas estatísticas, uma \n",
    "seguradora decidiu criar um seguro para cobrir as despesas \n",
    "desse tratamento. Num ano a seguradora tem em carteira 3000 \n",
    "apólices deste tipo.\n",
    "\n",
    "A) Determine a probabilidade de nenhuma pessoa segurada contrair a doença nesse ano.\n",
    "B) Qual é o número esperado de pessoas seguradas que irão ter a doença nesse ano?\n",
    "'''\n",
    "\n",
    "# A) \n",
    "p = 1/5000\n",
    "n = 3000\n",
    "X = poisson.cdf(0, n*p)\n",
    "print(f'Probabilidade de nenhuma pessoa segurada contrair a doença: {X:.4f}')\n",
    "\n",
    "# B)\n",
    "X = poisson.mean(n*p)\n",
    "print(f'Número esperado de pessoas seguradas que terão a doença: {X:.4f}')"
   ]
  },
  {
   "cell_type": "code",
   "execution_count": 39,
   "metadata": {},
   "outputs": [
    {
     "name": "stdout",
     "output_type": "stream",
     "text": [
      "Probabilidade de menos de 5 reações negativas antes da primeira positiva: 0.0720\n"
     ]
    }
   ],
   "source": [
    "from scipy.stats import geom\n",
    "'''\n",
    "Um pesquisador está realizando uns experimentos químicos \n",
    "independentes e sabe que a probabilidade de que cada experimento \n",
    "apresente uma reação positiva é 0.3. Qual é a probabilidade de \n",
    "que menos de 5 reações negativas ocorram antes da primenra positiva?\n",
    "'''\n",
    "p = 0.3\n",
    "n = 5\n",
    "X = geom.pmf(n, p)\n",
    "print(f'Probabilidade de menos de 5 reações negativas antes da primeira positiva: {X:.4f}')"
   ]
  },
  {
   "cell_type": "code",
   "execution_count": 43,
   "metadata": {},
   "outputs": [
    {
     "name": "stdout",
     "output_type": "stream",
     "text": [
      "Probabilidade da primeira reclamação ocorrer até a 2ª chamada: 0.0278\n",
      "Média: 35.0000\n",
      "Desvio padrão: 31.3050\n",
      "Coeficiente de variação: 89.4427\n"
     ]
    }
   ],
   "source": [
    "'''\n",
    "No Callcenter de uma empresa distribuidora de telefonia, \n",
    "apenas 35% das chamadas são relacionadas a reclamações \n",
    "sobre erros nas faturas emitidas pela empresa. Pede-se:\n",
    "\n",
    "a) Qual a probabilidade da primeira reclamação sobre erro na fatura emitida da conta, ocorrer até a 2ª chamada.\n",
    "b) A média, desvio padrão e coeficiente de variação desta variável aleatória.\n",
    "'''\n",
    "\n",
    "# A)\n",
    "p = 1/35\n",
    "n = 2\n",
    "X = geom.pmf(n, p)\n",
    "print(f'Probabilidade da primeira reclamação ocorrer até a 2ª chamada: {X:.4f}')\n",
    "\n",
    "# B) \n",
    "esperanca = 1 / p\n",
    "variancia = (q / (p * p))\n",
    "desvio = variancia ** 0.5\n",
    "coeficiente = desvio / esperanca\n",
    "print(f'Média: {esperanca:.4f}')\n",
    "print(f'Desvio padrão: {desvio:.4f}')\n",
    "print(f'Coeficiente de variação: {coeficiente:.4f}')"
   ]
  }
 ],
 "metadata": {
  "kernelspec": {
   "display_name": "Python 3",
   "language": "python",
   "name": "python3"
  },
  "language_info": {
   "codemirror_mode": {
    "name": "ipython",
    "version": 3
   },
   "file_extension": ".py",
   "mimetype": "text/x-python",
   "name": "python",
   "nbconvert_exporter": "python",
   "pygments_lexer": "ipython3",
   "version": "3.11.8"
  }
 },
 "nbformat": 4,
 "nbformat_minor": 2
}
