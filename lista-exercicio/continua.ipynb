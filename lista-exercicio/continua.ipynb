{
 "cells": [
  {
   "cell_type": "markdown",
   "metadata": {},
   "source": [
    "# Exercícios: Distribuição exponencial"
   ]
  },
  {
   "cell_type": "code",
   "execution_count": 9,
   "metadata": {},
   "outputs": [
    {
     "name": "stdout",
     "output_type": "stream",
     "text": [
      "Probabilidade de o tempo de resposta ser de no máximo 10 milissegundos: 0.8647\n",
      "Probabilidade de o tempo de resposta estar entre 5 e 10 milissegundos: 0.2325\n"
     ]
    }
   ],
   "source": [
    "from scipy.stats import expon\n",
    "'''\n",
    "Quando falamos em tecnologia LCD, existem diversos aspectos \n",
    "que podem interessar ao usuário. Se o intuito for jogar videogame, \n",
    "por exemplo, uma característica que deve ser observada é o tempo \n",
    "de resposta do aparelho. O tempo de resposta é aquele em que o \n",
    "monitor de LCD muda completamente a imagem da tela. Este fator é \n",
    "importante pois, caso não seja rápido o suficiente, teremos efeitos \n",
    "indesejados como “objetos fantasmas” ou sombra nos movimentos do jogo. \n",
    "Supondo que esse tempo de resposta tenha distribuição exponencial com \n",
    "média igual a 5 milissegundos, responda:\n",
    "\n",
    "a) Qual a probabilidade de o tempo de resposta ser de no máximo 10 milissegundos? (resp: 0,865)\n",
    "b) Qual a probabilidade de o tempo de resposta estar entre 5 e 10 milissegundos? (resp: 0,233)\n",
    "'''\n",
    "\n",
    "# A) \n",
    "print(f'Probabilidade de o tempo de resposta ser de no máximo 10 milissegundos: {expon.cdf(10, scale=5).round(4)}')\n",
    "\n",
    "# B)\n",
    "print(f'Probabilidade de o tempo de resposta estar entre 5 e 10 milissegundos: {(expon.cdf(10, scale=5) - expon.cdf(5, scale=5)).round(4)}')"
   ]
  },
  {
   "cell_type": "code",
   "execution_count": 12,
   "metadata": {},
   "outputs": [
    {
     "name": "stdout",
     "output_type": "stream",
     "text": [
      "Probabilidade de uma reação durar mais de 2.000 segundos: 0.6065\n",
      "Probabilidade de uma reação durar pelo menos 6.000 segundos, sabendo-se que ela já durou 4.000 segundos: 0.6065\n"
     ]
    }
   ],
   "source": [
    "'''\n",
    "As indústrias químicas têm alto custo de pesquisa para descobrir \n",
    "novas formas para agilizar certas reações químicas. Quanto mais rápido \n",
    "elas ocorram, mais economicamente interessante passam a ser essas reações, \n",
    "pois aumentam seu potencial de lucro. Uma maneira muito conhecida de \n",
    "acelerar reações é a utilização de catalisadores. Uma das formas de aceleração \n",
    "é a catalisação por enzimas. O estudo do efeito das enzimas em reações \n",
    "químicas é chamado cinética enzimática. Boa parte da cinética enzimática \n",
    "envolve justamente distribuições exponenciais, uma vez que foi descoberto \n",
    "que essa distribuição se adéqua à realidade. Considerando que uma dessas \n",
    "reações com catalisação de enzimas demore em média 4.000 segundos, calcule:\n",
    "\n",
    "a) a probabilidade de uma reação durar mais de 2.000 segundos. (resp: 0.6065)\n",
    "b) a probabilidade de uma reação durar pelo menos 6.000 segundos, sabendo-se que ela já durou 4.000 segundos? (resp: 0.6065)\n",
    "'''\n",
    "\n",
    "# A)\n",
    "X = 1 - expon.cdf(2000, scale=4000)\n",
    "print(f'Probabilidade de uma reação durar mais de 2.000 segundos: {X.round(4)}')\n",
    "\n",
    "# B)\n",
    "X = 1 - expon.cdf(6000, scale=4000)\n",
    "Y = 1 - expon.cdf(4000, scale=4000)\n",
    "prob = X / Y\n",
    "print(f'Probabilidade de uma reação durar pelo menos 6.000 segundos, sabendo-se que ela já durou 4.000 segundos: {prob.round(4)}')\n"
   ]
  },
  {
   "cell_type": "code",
   "execution_count": 14,
   "metadata": {},
   "outputs": [
    {
     "name": "stdout",
     "output_type": "stream",
     "text": [
      "Probabilidade do aparelho durar mais do que o tempo de cobertura da garantia estabelecida pela fábrica que é de 1 ano: 0.6065\n",
      "Probabilidade do aparelho durar mais 1 ano, sabendo que a garantia acabou de vencer sem que o aparelho apresentase problema: 0.6065\n"
     ]
    }
   ],
   "source": [
    "'''\n",
    "Suponha que o tempo de vida T (em anos) de um smartphone seja \n",
    "modelado pela distribuição Exponencial com parâmetro 2. \n",
    "\n",
    "a) Calcule a probabilidade do aparelho durar mais do que o tempo \n",
    "de cobertura da garantia estabelecida pela fábrica que é de 1 ano. (resp: 0.6065)\n",
    "\n",
    "b) Sabendo que a garantia acabou de vencer sem que o aparelho apresentase \n",
    "problema, calcule a probabilidade do aparelho durar mais 1 ano. (resp: 0.6065)\n",
    "'''\n",
    "\n",
    "# A)\n",
    "X = 1 - expon.cdf(1, scale=2)\n",
    "print(f'Probabilidade do aparelho durar mais do que o tempo de cobertura da garantia estabelecida pela fábrica que é de 1 ano: {X.round(4)}')\n",
    "\n",
    "# B)\n",
    "X = 1 - expon.cdf(2, scale=2)\n",
    "Y = 1 - expon.cdf(1, scale=2)\n",
    "prob = X / Y\n",
    "print(f'Probabilidade do aparelho durar mais 1 ano, sabendo que a garantia acabou de vencer sem que o aparelho apresentase problema: {prob.round(4)}')"
   ]
  },
  {
   "cell_type": "code",
   "execution_count": 18,
   "metadata": {},
   "outputs": [
    {
     "name": "stdout",
     "output_type": "stream",
     "text": [
      "Lucro esperado por item: 0.033\n"
     ]
    }
   ],
   "source": [
    "'''\n",
    "Suponha que um mecanismo eletrônico tenha um tempo de vida X \n",
    "(em 1000 horas) que possa ser considerado uma v.a. contínua com fdp f (x) = e −x , x > 0 .\n",
    "Suponha que o custo de fabricação de um item seja 2,00 reais e o preço de venda seja 5,00 reais.\n",
    "O fabricante garante total devolução se X ≤ 0, 9. Qual o lucro esperado por item? (resp: 0.033)\n",
    "'''\n",
    "X = expon.cdf(0.9, scale=1)\n",
    "lucro = ((1 - X) * 3) - (X * 2)\n",
    "print(f'Lucro esperado por item: {lucro.round(3)}')"
   ]
  }
 ],
 "metadata": {
  "kernelspec": {
   "display_name": "Python 3",
   "language": "python",
   "name": "python3"
  },
  "language_info": {
   "codemirror_mode": {
    "name": "ipython",
    "version": 3
   },
   "file_extension": ".py",
   "mimetype": "text/x-python",
   "name": "python",
   "nbconvert_exporter": "python",
   "pygments_lexer": "ipython3",
   "version": "3.11.8"
  }
 },
 "nbformat": 4,
 "nbformat_minor": 2
}
